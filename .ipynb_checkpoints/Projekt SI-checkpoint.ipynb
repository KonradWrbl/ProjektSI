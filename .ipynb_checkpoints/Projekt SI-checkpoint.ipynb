{
 "cells": [
  {
   "cell_type": "code",
   "execution_count": 1,
   "metadata": {},
   "outputs": [],
   "source": [
    "from sklearn.model_selection import KFold\n",
    "#from mpl_toolkits import mplot_3d\n",
    "import matplotlib.pyplot as plt\n",
    "from matplotlib import cm\n",
    "from matplotlib.ticker import LinearLocator, FormatStrFormatter\n",
    "import numpy as np\n",
    "\n",
    "np.random.seed(90)"
   ]
  },
  {
   "cell_type": "code",
   "execution_count": 8,
   "metadata": {},
   "outputs": [],
   "source": [
    "class Layer:\n",
    "    def __init__(self, n_input, n_neurons, activation=None, weights=None, bias=None):\n",
    "        self.weights = weights if weights is not None else np.random.rand(n_input, n_neurons)\n",
    "        self.activation = activation\n",
    "        self.bias = bias if bias is not None else np.random.rand(n_neurons)\n",
    "        self.last_activation = None\n",
    "        self.error = None\n",
    "        self.delta = None\n",
    "        \n",
    "    def activate(self, x):\n",
    "        r = np.dot(x, self.weights) + self.bias\n",
    "        self.last_activation = self._apply_activation(r)\n",
    "        return self.last_activation\n",
    "    \n",
    "    def _apply_activation(self, r):\n",
    "        if self.activation is None: return r\n",
    "        if self.activation == 'tanh': return np.tanh(r)\n",
    "        if self.activation == 'sigmoid': return 1/(1 + np.exp(-r))\n",
    "        if self.activation == 'ReLU': return np.maximum(0, r)\n",
    "        return r\n",
    "    \n",
    "    def apply_activation_derivative(self, r):\n",
    "        if self.activation is None: return r\n",
    "        if self.activation == 'tanh': return 1 - r ** 2\n",
    "        if self.activation == 'sigmoid': return r * (1 - r)\n",
    "        if self.activation == 'ReLU': return (r > 0).astype(int)"
   ]
  },
  {
   "cell_type": "code",
   "execution_count": 18,
   "metadata": {},
   "outputs": [],
   "source": [
    "class NeuralNetwork:\n",
    "    def __init__(self):\n",
    "        self._layers = []\n",
    "    \n",
    "    def add_layer(self, layer):\n",
    "        self._layers.append(layer)\n",
    "        \n",
    "    def feed_forward(self, X):\n",
    "        for layer in self._layers:\n",
    "            X = layer.activate(X)\n",
    "        \n",
    "        return X\n",
    "    \n",
    "    def back_propagation(self, X, y, learning_rate):\n",
    "        output = self.feed_forward(X)\n",
    "        \n",
    "        for i in reversed(range(len(self._layers))):\n",
    "            layer = self._layers[i]\n",
    "            \n",
    "            if layer == self._layers[-1]:\n",
    "                layer.error = y - output\n",
    "                layer.delta = layer.error * layer.apply_activation_derivative(output)\n",
    "            else:\n",
    "                next_layer = self._layers[i + 1]\n",
    "                layer.error = np.dot(next_layer.weights, next_layer.delta)\n",
    "                layer.delta = layer.error * layer.apply_activation_derivative(layer.last_activation)\n",
    "                \n",
    "        for i in range(len(self._layers)):\n",
    "            layer = self._layers[i]\n",
    "            input_to_use = np.atleast_2d(X if i == 0 else self._layers[i - 1].last_activation)\n",
    "            layer.weights += layer.delta * input_to_use.T * learning_rate\n",
    "            \n",
    "    def train(self, X, y, learning_rate, max_epochs):\n",
    "        kf = KFold(n_splits=10)\n",
    "        kf.get_n_splits(X)\n",
    "        mse = np.mean(np.square(y - nn.feed_forward(X)))\n",
    "        for i in range(max_epochs):\n",
    "            for train_index, test_index in kf.split(X):\n",
    "                for j in train_index:\n",
    "                    self.back_propagation(X[j], y[j], learning_rate)"
   ]
  },
  {
   "cell_type": "code",
   "execution_count": 22,
   "metadata": {},
   "outputs": [
    {
     "data": {
      "text/plain": [
       "array([[5.000e+00, 3.000e+00, 4.000e+00, ..., 4.000e+00, 4.000e+00,\n",
       "        4.000e+00],\n",
       "       [1.000e+00, 1.000e+00, 1.000e+00, ..., 2.000e+00, 2.000e+00,\n",
       "        2.000e+00],\n",
       "       [6.480e+02, 2.900e+01, 2.388e+03, ..., 9.050e+02, 7.530e+02,\n",
       "        3.910e+02],\n",
       "       ...,\n",
       "       [0.000e+00, 0.000e+00, 0.000e+00, ..., 0.000e+00, 0.000e+00,\n",
       "        0.000e+00],\n",
       "       [1.000e+00, 2.000e+00, 0.000e+00, ..., 0.000e+00, 0.000e+00,\n",
       "        0.000e+00],\n",
       "       [0.000e+00, 2.000e+00, 3.000e+00, ..., 0.000e+00, 7.000e+00,\n",
       "        0.000e+00]])"
      ]
     },
     "execution_count": 22,
     "metadata": {},
     "output_type": "execute_result"
    }
   ],
   "source": [
    "X = np.genfromtxt('XNormalized.csv', delimiter=',', dtype=float)\n",
    "y = np.genfromtxt('yNormalized.csv', delimiter=',', dtype=float)\n",
    "\n",
    "nn = NeuralNetwork()\n",
    "nn.add_layer(Layer(194,100, 'sigmoid'))\n",
    "nn.add_layer(Layer(100,50, 'sigmoid'))\n",
    "nn.add_layer(Layer(50,1, 'sigmoid'))\n",
    "nn.train(X, y, 0.3, 100)"
   ]
  },
  {
   "cell_type": "code",
   "execution_count": null,
   "metadata": {},
   "outputs": [],
   "source": []
  }
 ],
 "metadata": {
  "kernelspec": {
   "display_name": "Python 3",
   "language": "python",
   "name": "python3"
  },
  "language_info": {
   "codemirror_mode": {
    "name": "ipython",
    "version": 3
   },
   "file_extension": ".py",
   "mimetype": "text/x-python",
   "name": "python",
   "nbconvert_exporter": "python",
   "pygments_lexer": "ipython3",
   "version": "3.7.6"
  }
 },
 "nbformat": 4,
 "nbformat_minor": 4
}
